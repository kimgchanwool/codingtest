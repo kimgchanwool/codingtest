{
 "cells": [
  {
   "cell_type": "code",
   "execution_count": 27,
   "id": "5d5fdf2a",
   "metadata": {},
   "outputs": [
    {
     "name": "stdout",
     "output_type": "stream",
     "text": [
      "10\n",
      "3628800\n"
     ]
    }
   ],
   "source": [
    "def factorial_recusive(num):\n",
    "    if num == 0:\n",
    "        return 1\n",
    "    return num * factorial_recusive(num - 1)\n",
    "print(factorial_recusive(int(input())))"
   ]
  },
  {
   "cell_type": "code",
   "execution_count": null,
   "id": "8900bfd6",
   "metadata": {},
   "outputs": [],
   "source": []
  }
 ],
 "metadata": {
  "kernelspec": {
   "display_name": "Python 3",
   "language": "python",
   "name": "python3"
  },
  "language_info": {
   "codemirror_mode": {
    "name": "ipython",
    "version": 3
   },
   "file_extension": ".py",
   "mimetype": "text/x-python",
   "name": "python",
   "nbconvert_exporter": "python",
   "pygments_lexer": "ipython3",
   "version": "3.8.8"
  }
 },
 "nbformat": 4,
 "nbformat_minor": 5
}
