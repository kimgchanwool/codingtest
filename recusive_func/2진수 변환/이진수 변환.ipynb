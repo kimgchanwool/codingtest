{
 "cells": [
  {
   "cell_type": "code",
   "execution_count": null,
   "id": "af07a95b",
   "metadata": {},
   "outputs": [],
   "source": [
    "num = input()\n",
    "\n",
    "def change_2(num):\n",
    "    if num == 0:\n",
    "        return\n",
    "    change_2(int(num) // 2)\n",
    "    print(int(num) % 2, end='')\n",
    "\n",
    "change_2(num)"
   ]
  }
 ],
 "metadata": {
  "kernelspec": {
   "display_name": "Python 3",
   "language": "python",
   "name": "python3"
  },
  "language_info": {
   "codemirror_mode": {
    "name": "ipython",
    "version": 3
   },
   "file_extension": ".py",
   "mimetype": "text/x-python",
   "name": "python",
   "nbconvert_exporter": "python",
   "pygments_lexer": "ipython3",
   "version": "3.8.8"
  }
 },
 "nbformat": 4,
 "nbformat_minor": 5
}
