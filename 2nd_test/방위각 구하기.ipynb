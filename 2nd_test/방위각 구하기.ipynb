{
 "cells": [
  {
   "cell_type": "code",
   "execution_count": null,
   "id": "1201edd1",
   "metadata": {},
   "outputs": [],
   "source": [
    "# 방위각 구하기"
   ]
  },
  {
   "cell_type": "code",
   "execution_count": 1,
   "id": "8e857b06",
   "metadata": {},
   "outputs": [],
   "source": [
    "instructions = [\"LEFT 5\",\"RIGHT 10\",\"LEFT 15\",\"RIGHT 20\",\"LEFT 25\",\"RIGHT 30\",\"LEFT 35\",\"RIGHT 40\"]"
   ]
  },
  {
   "cell_type": "code",
   "execution_count": 2,
   "id": "96e1d62d",
   "metadata": {},
   "outputs": [
    {
     "name": "stdout",
     "output_type": "stream",
     "text": [
      "355\n",
      "5\n",
      "350\n",
      "10\n",
      "345\n",
      "15\n",
      "340\n",
      "20\n"
     ]
    },
    {
     "data": {
      "text/plain": [
       "270"
      ]
     },
     "execution_count": 2,
     "metadata": {},
     "output_type": "execute_result"
    }
   ],
   "source": [
    "now = 0\n",
    "for i in instructions:\n",
    "    if i == 'HALT':\n",
    "        break\n",
    "    elif i == 'TURN AROUND':\n",
    "        now = (now + 180) % 360\n",
    "    elif i == 'LEFT':\n",
    "        now = (now - 90) % 360\n",
    "    elif i == 'RIGHT':\n",
    "        now = (now + 90) % 360\n",
    "    elif 'LEFT ' in i:\n",
    "        now = (now - int(i.split(' ')[-1])) % 360\n",
    "    elif 'RIGHT ' in i:\n",
    "        now = (now + int(i.split(' ')[-1])) % 360\n",
    "    print(now)\n",
    "\n",
    "-90 % 360"
   ]
  },
  {
   "cell_type": "code",
   "execution_count": null,
   "id": "0526fe09",
   "metadata": {},
   "outputs": [],
   "source": []
  }
 ],
 "metadata": {
  "kernelspec": {
   "display_name": "Python 3",
   "language": "python",
   "name": "python3"
  },
  "language_info": {
   "codemirror_mode": {
    "name": "ipython",
    "version": 3
   },
   "file_extension": ".py",
   "mimetype": "text/x-python",
   "name": "python",
   "nbconvert_exporter": "python",
   "pygments_lexer": "ipython3",
   "version": "3.8.8"
  }
 },
 "nbformat": 4,
 "nbformat_minor": 5
}
